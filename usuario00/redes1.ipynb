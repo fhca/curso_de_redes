{
 "cells": [
  {
   "cell_type": "markdown",
   "metadata": {
    "slideshow": {
     "slide_type": "-"
    }
   },
   "source": [
    "# Mini-taller de programación de redes en Python\n",
    "\n",
    "##  NOTAS\n",
    "\n",
    "* Este taller **no va a enseñarte a programar en Python**\n",
    "* Para eso se requiere invertir un mínimo de 10 horas (quizás menos, si ya programas en otro lenguaje)\n",
    "* Tampoco hay tiempo para enseñarte a instalar programas, ni a utilizar tu sistema operativo. Eso se ve en un curso básico.\n",
    "* Python, Jupyter y las bibliotecas que vamos a utilizar es Software Libre, se consiguen gratis legalmente de internet. \n",
    "* Revisa esta página https://github.com/fhca/cursodepython para un minicurso sobre Python e instrucciones para la instalación.\n",
    "\n",
    "IMPORTANTE: SI NO SABES PROGRAMAR LO BASICO EN PYTHON, PROBABLEMENTE ESTE CURSO NO SEA PARA TI.\n",
    "\n",
    "Si aún así insistes en tomarlo, en la dirección:\n",
    "\n",
    "https://github.com/fhca/cursodepython\n",
    "\n",
    "he puesto ayuda y libretas como esta para:\n",
    "\n",
    "* instalar Python y bibliotecas auxiliares. Necesitarás instalar:\n",
    "    * `python` 3.5 o mayor, NOTA: no instales python 2.xx\n",
    "    * `numpy`\n",
    "    * `matplotlib`\n",
    "    * `jupyter`\n",
    "    * `networkx` `   ` (se instala de manera similar a numpy)\n",
    "  \n",
    "  para seguir los ejemplos de estas notas.\n",
    "* aprender a utilizar este ambiente de desarrollo llamado `Jupyter`\n",
    "* aprender a programar Python desde cero\n",
    "\n",
    "Te recomiendo que ahí presiones el botón verde para descargar el archivo ZIP, que deberás descomprimir para instalar todos los archivos que ahí se encuentran (si los bajas uno por uno puedes tener problemas).\n",
    "\n",
    "También puedes usar el menú `Help` de Jupyter (este programa), para dar un tour por la interface, o conocer las teclas para utilizarla más rápido.\n",
    "\n",
    "** Nota sobre Jupyter:**\n",
    "\n",
    "* El programa que estas viendo correr dentro del navegador se llama Jupyter. \n",
    "* La mayoría de los programas o celdas que veremos aquí se pueden poner como programas independientes. \n",
    "* De hecho no es necesario instalar Jupyter para hacer todo lo que en el curso se hará, Jupyter sólo lo hace más fácil de ejecutar y presentar a una audiencia, por eso lo utilizaré. \n",
    "* Opcionalmente puedes usar el ambiente de desarrollo `Anaconda`, el cual es bastante más fácil de instalar que lo que describo arriba, pero es considerablemente más grande y pesado de ejecutar para algunas computadoras. \n",
    "* Tendrás que revisar el internet para ver como instalar en Anaconda lo que necesitaremos para este curso y como ejecutar programas ahí. \n",
    "* En vez de Jupyter y Anaconda, puedes utilizar uno de los múltiples GUI o ambientes de desarrollo que se encuentran gratuitamente en internet, como PyCharm (recomendado), Komodo, Spyder, Geany, etc.\n",
    "* Finalmente, algunas cosas de Jupyter no funcionan con el `Internet Explorer` de Windows, por lo que se recomienda utilizar Chrome u otro navegador que tengas disponible."
   ]
  },
  {
   "cell_type": "markdown",
   "metadata": {},
   "source": [
    "## Inicio\n",
    "### Redes complejas, sistemas complejos, etc.\n",
    "Un Sistema Complejo, no hay una definición única, pero se puede entender como aquella porción de la realidad que \n",
    "* presenta fenómenos que no se explican como la suma de (las explicaciones) de sus partes o componentes. Un ejemplo fácil de ver es \"el pensamiento\" que no se explica por la operación electroquímica de las neuronas, ni siquiera por su red de conexiones. <img src=\"brain.jpg\" width=400px>\n",
    "* presenta comportamientos de crecimiento \"libres de escala\", es decir, al crecer, no lo hace proporcionalmente al tiempo. Por ejemplo, una avalancha comienza como unas pocas piedras que se mueven, pero a medida que baja por la ladera de una montaña, esas pequeñas piedras van empujando rocas de todos tamaños a su paso. ![Avalancha.](avalancha.jpg)\n",
    "\n",
    "Para explicarlos, se utilizan muy diversas disciplinas y por lo general se utilizan modelos físico-matemático-computacionales. Aquí el término *complejo* no es sinónimo de dificil o complicado. Tampoco necesariamente se trata de muchos elementos. En su explicación no se trata de subdividir el problema en problemas mas pequeños o sencillos (*reduccionismo*), sino se trata de representar el fenómeno global.\n",
    "\n",
    "Actualmente se usa la complejidad para atacar problemas de áreas tan diversas como:\n",
    "* ingeniería\n",
    "* medicina\n",
    "* física de materiales\n",
    "* geología\n",
    "* biología\n",
    "* economía\n",
    "\n",
    "etc.\n",
    "\n",
    "Las **redes** por su parte, son una herramienta para modelar sistemas complejos. Son las gráficas o grafos utilizadas en matemáticas, consistentes de nodos y aristas, pero de las que se estudian no sólo sus propiedades combinatorias, sino además diversas medidas estadísticas para explicar el fenómeno complejo que las motivó.\n",
    "\n",
    "Un fenómeno nos puede dar pauta de manera sencilla de que se puede modelar con redes. Por ejemplo, el modelar las computadoras que están en red en el internet, o las páginas a las que se conecta una página dada de la Wikipedia, o incluso la red de relaciones que una persona puede tener en una empresa. Otros fenómenos son quizás un poco más dificiles de ver que también se pueden modelar con redes, como por ejemplo, el crecimiento de una pandemia, de una población en un ecosistema o del tráfico vehicular."
   ]
  },
  {
   "cell_type": "markdown",
   "metadata": {},
   "source": [
    "## Programación de redes\n",
    "Para programar redes, se pueden utilizar diversos sistemas especilizados en ello o, como lo haremos aquí, utilizaremos el lenguaje de propósito general **Python** con bibliotecas auxiliares para apoyarnos en distinguir características del fenómeno a modelar.\n",
    "\n",
    "Una red o gráfica, consiste inicialmente de dos elementos\n",
    "* nodos\n",
    "* aristas\n",
    "\n",
    "Un *nodo* puede ser cualquier elemento de la naturaleza, incluso una red por si mismo. Una *arista* es una pareja de nodos relacionados. En ocasiones nos interesa que la relación tenga una dirección: del primero hacia el segundo nodo y no al revés, o puede ser que la relación sea en ambas direcciones. En un caso utilizaremos flechas y en otro solo segmentos o arcos para dibujar la red.\n",
    "\n",
    "Por lo general no importa mucho la posición de los nodos, pero también podría importar (*redes geométricas*). En ocasiones las aristas tienen propiedades como color, peso, distancia, nodos a los que se llega desde ella, etc. También los nodos pueden tener propiedades como color, tamaño, peso, etc.\n",
    "\n",
    "Para analizar una red no siempre es necesario dibujarlas, pero existen programas que hacen ambas cosas. A veces debido a lo complicado del dibujo, es mejor revisarlas analíticamente.\n"
   ]
  },
  {
   "cell_type": "code",
   "execution_count": null,
   "metadata": {
    "collapsed": false
   },
   "outputs": [],
   "source": [
    "import networkx as nx\n",
    "%matplotlib inline\n",
    "\n",
    "G = nx.Graph()\n",
    "G.add_edge(\"A\", \"B\")\n",
    "nx.draw_networkx(G)"
   ]
  },
  {
   "cell_type": "markdown",
   "metadata": {},
   "source": [
    "Computacionalmente las redes se suelen representar con estructuras como las matrices y las listas adyacencia.\n",
    "\n",
    "En la siguiente celda muestro algunos programas escritos en Python, un tanto avanzados, pero que nos harán más facil el curso. Más abajo veremos como se utilizan. Estos son:\n",
    "\n",
    "* a_matriz(G) - Convierte la gráfica G en matriz de adyacencia (también devuelve la lista de nodos)\n",
    "* a_lista(G) - Convierte la gráfica G en lista de adyacencia (también devuelve la lista de nodos)\n",
    "* imprime_matriz_de_adyacencia(G) - Muestra la matriz de adyacencia de G\n",
    "* imprime_lista_de_adyacencia(G) - Muestra la lista de adyacencia de G\n",
    "* imprime_adyacencia(G) - muestra la matriz y la lista de adyacencia de G\n",
    "* desde(dic) - construye una gráfica a partir de una matriz o lista de adyacencia"
   ]
  },
  {
   "cell_type": "code",
   "execution_count": null,
   "metadata": {
    "collapsed": false
   },
   "outputs": [],
   "source": [
    "import networkx as nx            # biblioteca de redes\n",
    "import numpy as np               # biblioteca numérica\n",
    "import matplotlib.pyplot as plt  # biblioteca para graficar\n",
    "\n",
    "# muestra los dibujos dentro de esta ventana y no en una nueva\n",
    "%matplotlib inline\n",
    "\n",
    "def a_matriz(G):\n",
    "    \"Devuelve nodos_ordenados, matriz de 0s y 1s.\"\n",
    "    nodos_ordenados = np.sort(G.nodes())\n",
    "    return {\"nodos\":nodos_ordenados,\n",
    "            \"matriz\":np.array(nx.to_numpy_matrix(G, nodelist=nodos_ordenados))}\n",
    "\n",
    "def a_lista(G):\n",
    "    \"Devuelve nodos_ordenados, lista de listas de etiquetas.\"\n",
    "    orden_nodos = np.array(G.nodes()).argsort()\n",
    "    return {\"nodos\":np.array(G.nodes())[orden_nodos],\n",
    "            \"lista\":np.array(G.adjacency_list())[orden_nodos]}\n",
    "\n",
    "def imprime_matriz_de_adyacencia(G):\n",
    "    # Matriz de adyacencia\n",
    "    m = a_matriz(G)\n",
    "    ## imprimimos la matriz con los nodos en orden\n",
    "    print(\"    \", end=\"\")\n",
    "    for i in m[\"nodos\"]:\n",
    "        print(i, end=\"   \")\n",
    "    print()\n",
    "    for nodo, renglon in zip(m[\"nodos\"], m[\"matriz\"]):\n",
    "        print(str(nodo), str(renglon))\n",
    "\n",
    "def imprime_lista_de_adyacencia(G):\n",
    "    # Lista de adyacencia\n",
    "    m = a_lista(G)\n",
    "    ## imprimimos la lista con nodos en orden\n",
    "    for nodo, lista in zip(m[\"nodos\"], m[\"lista\"]):\n",
    "        print(str(nodo) + \" : \" + str(lista))\n",
    "\n",
    "def imprime_adyacencia(G):\n",
    "    print(\"Matriz de Adyacencia:\")\n",
    "    imprime_matriz_de_adyacencia(G)\n",
    "    print(\"Lista de Adyacencia:\")\n",
    "    imprime_lista_de_adyacencia(G)\n",
    "    \n",
    "def desde(dic, digráfica=False):\n",
    "    \"Construye (di)gráfica a partir de una lista, una matriz o un dic.\"\n",
    "    G = nx.DiGraph() if digráfica else nx.Graph()\n",
    "    if isinstance(dic, dict): # es diccionario?\n",
    "        if \"nodos\" in dic.keys(): # esta el item \"nodos\"?\n",
    "            nodos = dic[\"nodos\"]\n",
    "        else:\n",
    "            nodos = range(len(dic[\"lista\"]))\n",
    "        if \"lista\" in dic.keys(): # esta el item \"lista\"?\n",
    "            aristas = ((nodos[i], vecino) for i in range(len(nodos)) for vecino in dic[\"lista\"][i])\n",
    "        else:  # matriz\n",
    "            bmat = dic[\"matriz\"]==1  # arreglo booleano\n",
    "            aristas = ((nodos[i], vecino) for i in range(len(nodos)) for vecino in nodos[bmat[i]])\n",
    "    else: # asumimos que se dá la lista o la matriz directo, etiquetas son enteros de 0 a n-1\n",
    "        nodos = range(len(dic))\n",
    "        m = len(dic[0])\n",
    "        if all(len(dic[i]) == m for i in range(len(nodos))) and \\\n",
    "            set(e for l in dic for e in set(l)) == {0,1}: # reng de la misma long y conteniendo sólo 0,1\n",
    "                bmat = dic == 1\n",
    "                n=range(len(nodos))\n",
    "                aristas =((nodos[a], nodos[b]) for a in n for b in n if bmat[a,b])\n",
    "                #aristas = ((nodos[i], vecino) for i in range(len(nodos)) for vecino in nodos[bmat[i]])\n",
    "        else:\n",
    "            aristas = ((nodos[i], vecino) for i in range(len(nodos)) for vecino in dic[i])\n",
    "    G.add_nodes_from(nodos)\n",
    "    G.add_edges_from(aristas)\n",
    "    return G\n"
   ]
  },
  {
   "cell_type": "code",
   "execution_count": null,
   "metadata": {
    "collapsed": false
   },
   "outputs": [],
   "source": [
    "G = nx.Graph()\n",
    "#G.add_node(\"A\")  # se pueden agregar los nodos primero y luego las aristas\n",
    "#G.add_node(\"B\")  # pero se puede también agregar directo las aristas.\n",
    "#G.add_node(\"C\")  # Networkx creará los nodos necesarios.\n",
    "#G.add_node(\"D\")\n",
    "#G.add_node(\"E\")\n",
    "G.add_edge(\"A\", \"B\")\n",
    "G.add_edge(\"B\", \"C\")\n",
    "G.add_edge(\"C\", \"D\")\n",
    "G.add_edge(\"D\", \"E\")\n",
    "G.add_edge(\"E\", \"A\")\n",
    "G.add_edge(\"A\", \"D\")\n",
    "G.add_edge(\"E\", \"B\")\n",
    "G.add_edge(\"B\", \"D\")\n",
    "nx.draw_networkx(G)\n",
    "plt.show()\n",
    "imprime_adyacencia(G)"
   ]
  },
  {
   "cell_type": "code",
   "execution_count": null,
   "metadata": {
    "collapsed": false
   },
   "outputs": [],
   "source": [
    "cadena = nx.DiGraph()\n",
    "for i in range(5):\n",
    "    cadena.add_edge(i,i + 1)\n",
    "nx.draw_networkx(cadena)\n",
    "plt.show()\n",
    "imprime_adyacencia(cadena)"
   ]
  },
  {
   "cell_type": "code",
   "execution_count": null,
   "metadata": {
    "collapsed": false
   },
   "outputs": [],
   "source": [
    "# un ciclo\n",
    "ciclo = cadena.copy()  # crea una copia de la gráfica\n",
    "ciclo.add_edge(5,0)  # añadimos la arista que falta\n",
    "nx.draw_circular(ciclo)\n",
    "plt.show()\n",
    "imprime_adyacencia(ciclo)"
   ]
  },
  {
   "cell_type": "code",
   "execution_count": null,
   "metadata": {
    "collapsed": false
   },
   "outputs": [],
   "source": [
    "# completa (todos contra todos)\n",
    "completa = nx.Graph()\n",
    "n = 10\n",
    "aristas = ((i,j) for i in range(n) for j in range(n) if j>i)\n",
    "#list(aristas)\n",
    "completa.add_edges_from(aristas)\n",
    "nx.draw_circular(completa)\n",
    "plt.show()\n",
    "imprime_adyacencia(completa)"
   ]
  },
  {
   "cell_type": "code",
   "execution_count": null,
   "metadata": {
    "collapsed": false
   },
   "outputs": [],
   "source": [
    "# bipartita completa (todos de un subconjunto contra todos los del otro)\n",
    "bipartita = nx.Graph()\n",
    "n = 5\n",
    "m = 3\n",
    "aristas = ((i,j) for i in range(n) for j in range(n, m+n))\n",
    "#list(aristas)\n",
    "bipartita.add_edges_from(aristas)\n",
    "nx.draw_networkx(bipartita)\n",
    "plt.show()\n",
    "imprime_adyacencia(bipartita)"
   ]
  },
  {
   "cell_type": "code",
   "execution_count": null,
   "metadata": {
    "collapsed": false
   },
   "outputs": [],
   "source": [
    "nx.draw_networkx(desde(a_lista(G)))\n",
    "#plt.savefig(\"casita\")\n",
    "plt.show()\n",
    "nx.draw_networkx(desde(a_matriz(G)))\n",
    "plt.show()"
   ]
  },
  {
   "cell_type": "code",
   "execution_count": null,
   "metadata": {
    "collapsed": false
   },
   "outputs": [],
   "source": [
    "# guarda lista de adyacencia\n",
    "d = a_lista(bipartita)\n",
    "np.savez(\"casita\", nodos=d[\"nodos\"], lista=d[\"lista\"])\n",
    "\n",
    "# carga lista de adyacencia\n",
    "cas = np.load(\"casita.npz\")\n",
    "print(\"nodos:\", cas[\"nodos\"])\n",
    "print(\"lista:\", cas[\"lista\"])\n",
    "casita = desde({'nodos':cas[\"nodos\"], 'lista':cas[\"lista\"]})\n",
    "cas.close()\n",
    "nx.draw_networkx(casita)"
   ]
  },
  {
   "cell_type": "code",
   "execution_count": null,
   "metadata": {
    "collapsed": false
   },
   "outputs": [],
   "source": [
    "cad = a_matriz(cadena)\n",
    "cad_t = desde({\"nodos\":cad[\"nodos\"],\n",
    "                    \"matriz\":cad[\"matriz\"].T}, digráfica=True) # transpuesta\n",
    "nx.draw_networkx(cad_t)  # hace que las flechas cambien de dirección"
   ]
  },
  {
   "cell_type": "code",
   "execution_count": null,
   "metadata": {
    "collapsed": false,
    "scrolled": true
   },
   "outputs": [],
   "source": [
    "mat = np.random.random(100).reshape(10,10)\n",
    "p = .1 # prob. de conexión\n",
    "mat = np.where(mat<p, 1, 0)\n",
    "print(mat)\n",
    "\n",
    "rnd = desde(mat, digráfica=True)\n",
    "nx.draw_networkx(rnd)\n",
    "plt.show()\n",
    "dict(nx.node_degree_xy(rnd))"
   ]
  },
  {
   "cell_type": "markdown",
   "metadata": {},
   "source": [
    "Ejercicios:\n",
    "\n",
    "* Construya las gráficas de los sólidos platónicos (tetraedro, cubo, octaedro, dodecaedro, icosaedro)\n",
    "* Guárdelas como listas de adyacencia y como figuras\n",
    "* Revisar en el sitio web de Networkx como modificar el color de nodos y aristas, para cambiar la apariencia de estas gráficas"
   ]
  },
  {
   "cell_type": "code",
   "execution_count": null,
   "metadata": {
    "collapsed": true
   },
   "outputs": [],
   "source": []
  }
 ],
 "metadata": {
  "kernelspec": {
   "display_name": "Python 3",
   "language": "python",
   "name": "python3"
  },
  "language_info": {
   "codemirror_mode": {
    "name": "ipython",
    "version": 3
   },
   "file_extension": ".py",
   "mimetype": "text/x-python",
   "name": "python",
   "nbconvert_exporter": "python",
   "pygments_lexer": "ipython3",
   "version": "3.4.2"
  }
 },
 "nbformat": 4,
 "nbformat_minor": 0
}
