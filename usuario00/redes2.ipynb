{
 "cells": [
  {
   "cell_type": "markdown",
   "metadata": {},
   "source": [
    "# Redes 2"
   ]
  },
  {
   "cell_type": "code",
   "execution_count": null,
   "metadata": {
    "collapsed": true
   },
   "outputs": [],
   "source": [
    "import numpy as np\n",
    "import networkx as nx\n",
    "import matplotlib.pyplot as plt\n",
    "%matplotlib inline\n",
    "\n",
    "from redes import *"
   ]
  },
  {
   "cell_type": "code",
   "execution_count": null,
   "metadata": {
    "collapsed": false
   },
   "outputs": [],
   "source": [
    "G1 = nx.Graph()\n",
    "G1.add_edge(\"A\", \"B\")\n",
    "#nx.draw_networkx(G1)\n",
    "G2 = nx.cartesian_product(G1, G1)\n",
    "#nx.draw_networkx(G2)\n",
    "G3 = nx.cartesian_product(G2, G1)\n",
    "nx.draw_networkx(G3)"
   ]
  },
  {
   "cell_type": "code",
   "execution_count": null,
   "metadata": {
    "collapsed": false
   },
   "outputs": [],
   "source": [
    "dh = nx.degree_histogram(G3)\n",
    "plt.bar(np.arange(len(dh)), dh) #constante"
   ]
  },
  {
   "cell_type": "code",
   "execution_count": null,
   "metadata": {
    "collapsed": false
   },
   "outputs": [],
   "source": [
    "# Aleatoria\n",
    "def aleat(n, p):\n",
    "    \"erdos-renyi de nxn nodos con prob de conexion p.\"\n",
    "    mat = np.random.random(n*n).reshape(n,n)\n",
    "    mat = np.where(mat<p, 1, 0)\n",
    "    return desde(mat, digráfica=True)\n",
    "\n",
    "RND=aleat(100, .5)\n",
    "nx.draw_networkx(RND)\n",
    "plt.show()\n",
    "dh = nx.degree_histogram(RND)\n",
    "plt.bar(np.arange(len(dh)), dh) #normal\n",
    "plt.show()\n",
    "\n",
    "print(list(nx.connected_components(aleat(10,.5).to_undirected())))\n",
    "print(list(nx.connected_components(aleat(10,.3).to_undirected())))\n",
    "print(list(nx.connected_components(aleat(10,.2).to_undirected())))\n",
    "print(list(nx.connected_components(aleat(10,.1).to_undirected())))"
   ]
  },
  {
   "cell_type": "code",
   "execution_count": null,
   "metadata": {
    "collapsed": false
   },
   "outputs": [],
   "source": [
    "# Otra forma de crear una red aleatoria, saludo\n",
    "n=500\n",
    "\n",
    "SA=nx.Graph()\n",
    "SA.add_node(0)\n",
    "aristas= ((i, np.random.randint(0, i)) for i in range(1, n)) # i + uno ya creado \n",
    "SA.add_edges_from(aristas)\n",
    "pos = nx.spring_layout(SA, iterations=10) # posición de nodos\n",
    "nx.draw_networkx_nodes(SA, pos, node_size=10, alpha=0.5)\n",
    "nx.draw_networkx_edges(SA, pos, alpha=.2)\n",
    "plt.show()\n",
    "#imprime_lista_de_adyacencia(G)\n",
    "dh = nx.degree_histogram(SA)\n",
    "plt.bar(np.arange(len(dh)), dh) # exponencial negativa\n",
    "plt.show()"
   ]
  },
  {
   "cell_type": "code",
   "execution_count": null,
   "metadata": {
    "collapsed": false
   },
   "outputs": [],
   "source": [
    "n = 500\n",
    "\n",
    "BA=nx.Graph()\n",
    "BA.add_node(0)\n",
    "aristas= ((i, np.random.randint(0, i)) for j in range(np.random.randint(1,3)) for i in range(1, n)) # i + uno ya creado \n",
    "BA.add_edges_from(aristas)\n",
    "pos = nx.spring_layout(BA, iterations=10) # posición de nodos\n",
    "nx.draw_networkx_nodes(BA, pos, node_size=10, alpha=0.5)\n",
    "nx.draw_networkx_edges(BA, pos, alpha=.2)\n",
    "plt.xticks([])\n",
    "plt.yticks([])\n",
    "plt.show()\n",
    "#imprime_lista_de_adyacencia(G)\n",
    "dh = nx.degree_histogram(BA)\n",
    "plt.bar(np.arange(len(dh)), dh) #ley de potencias\n",
    "plt.show()"
   ]
  },
  {
   "cell_type": "code",
   "execution_count": null,
   "metadata": {
    "collapsed": false
   },
   "outputs": [],
   "source": [
    "nx.density(G3)"
   ]
  },
  {
   "cell_type": "code",
   "execution_count": null,
   "metadata": {
    "collapsed": false
   },
   "outputs": [],
   "source": [
    "print(nx.info(G3))"
   ]
  },
  {
   "cell_type": "code",
   "execution_count": null,
   "metadata": {
    "collapsed": false
   },
   "outputs": [],
   "source": [
    "print(nx.info(BA))"
   ]
  },
  {
   "cell_type": "code",
   "execution_count": null,
   "metadata": {
    "collapsed": false
   },
   "outputs": [],
   "source": [
    "plt.plot(list(nx.degree_centrality(G3).values()), \"b*\")\n",
    "plt.plot(list(nx.betweenness_centrality(G3).values()), \"-\")"
   ]
  },
  {
   "cell_type": "code",
   "execution_count": null,
   "metadata": {
    "collapsed": false
   },
   "outputs": [],
   "source": [
    "plt.plot(list(nx.betweenness_centrality(SA).values()), \"-\")"
   ]
  },
  {
   "cell_type": "code",
   "execution_count": null,
   "metadata": {
    "collapsed": false
   },
   "outputs": [],
   "source": [
    "# betweenness - nodos importantes son por los que pasan muchas rutas\n",
    "plt.plot(list(nx.betweenness_centrality(BA).values()), \"-\")"
   ]
  }
 ],
 "metadata": {
  "kernelspec": {
   "display_name": "Python 3",
   "language": "python",
   "name": "python3"
  },
  "language_info": {
   "codemirror_mode": {
    "name": "ipython",
    "version": 3
   },
   "file_extension": ".py",
   "mimetype": "text/x-python",
   "name": "python",
   "nbconvert_exporter": "python",
   "pygments_lexer": "ipython3",
   "version": "3.4.2"
  }
 },
 "nbformat": 4,
 "nbformat_minor": 0
}
