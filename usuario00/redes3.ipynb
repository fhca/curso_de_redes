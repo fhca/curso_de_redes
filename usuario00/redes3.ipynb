{
 "cells": [
  {
   "cell_type": "markdown",
   "metadata": {},
   "source": [
    "# Redes 3\n",
    "Sólo unos ejemplos más\n",
    "\n",
    "* Ver un tutorial de Networkx en http://snap.stanford.edu/class/cs224w-2011/nx_tutorial/nx_tutorial.pdf\n",
    "* Colección de datos para redes en https://snap.stanford.edu/data/"
   ]
  },
  {
   "cell_type": "code",
   "execution_count": null,
   "metadata": {
    "collapsed": false
   },
   "outputs": [],
   "source": [
    "import numpy as np\n",
    "import networkx as nx\n",
    "import matplotlib.pyplot as plt\n",
    "%matplotlib inline"
   ]
  },
  {
   "cell_type": "code",
   "execution_count": null,
   "metadata": {
    "collapsed": false
   },
   "outputs": [],
   "source": [
    "help(nx.algorithms)"
   ]
  },
  {
   "cell_type": "code",
   "execution_count": null,
   "metadata": {
    "collapsed": false
   },
   "outputs": [],
   "source": [
    "help(nx.centrality)"
   ]
  },
  {
   "cell_type": "code",
   "execution_count": null,
   "metadata": {
    "collapsed": false
   },
   "outputs": [],
   "source": [
    "ba = nx.barabasi_albert_graph(30, 2)\n",
    "pos = nx.spring_layout(ba, iterations=40)\n",
    "nx.draw_networkx(ba, pos, node_size=10, font_size=12, font_color=\"r\", label_pos=0.7)"
   ]
  },
  {
   "cell_type": "code",
   "execution_count": null,
   "metadata": {
    "collapsed": false
   },
   "outputs": [],
   "source": [
    "# máxima distancia entre nodos\n",
    "nx.diameter(ba)"
   ]
  },
  {
   "cell_type": "code",
   "execution_count": null,
   "metadata": {
    "collapsed": false
   },
   "outputs": [],
   "source": [
    "#distancia promedio de cada nodo a todos los demás\n",
    "nx.closeness.closeness_centrality(ba)"
   ]
  },
  {
   "cell_type": "code",
   "execution_count": null,
   "metadata": {
    "collapsed": false
   },
   "outputs": [],
   "source": [
    "bagrid = nx.union(ba, nx.grid_2d_graph(3,5))\n",
    "bagrid_pos = nx.spring_layout(bagrid, iterations=20)\n",
    "nx.draw(bagrid, bagrid_pos, node_size=10)\n",
    "list(nx.connected_components(bagrid))"
   ]
  },
  {
   "cell_type": "code",
   "execution_count": null,
   "metadata": {
    "collapsed": false
   },
   "outputs": [],
   "source": [
    "nx.find_cores(ba)"
   ]
  },
  {
   "cell_type": "code",
   "execution_count": null,
   "metadata": {
    "collapsed": false
   },
   "outputs": [],
   "source": [
    "# La red de páginas web de la Universidad de Stanford (tardado)\n",
    "aristas_total = np.loadtxt(\"web-Stanford.txt\", comments=\"#\", dtype=np.int32)\n",
    "print(\"aristas:\", len(aristas_total))"
   ]
  },
  {
   "cell_type": "code",
   "execution_count": null,
   "metadata": {
    "collapsed": false
   },
   "outputs": [],
   "source": [
    "aristas = aristas_total[:300]  # tomemos las primeras 300\n",
    "G = nx.DiGraph()\n",
    "G.add_edges_from(aristas)\n",
    "G_nodir = G.to_undirected()\n",
    "pos = nx.spring_layout(G_nodir, iterations=10)\n",
    "nx.draw(G_nodir, pos, node_size=10, alpha=.5)"
   ]
  },
  {
   "cell_type": "code",
   "execution_count": null,
   "metadata": {
    "collapsed": false
   },
   "outputs": [],
   "source": [
    "# componentes conexas\n",
    "G = nx.DiGraph()\n",
    "G.add_edges_from(aristas_total)\n",
    "G_nodir = G.to_undirected()\n",
    "nx.connected.number_connected_components(G_nodir)"
   ]
  },
  {
   "cell_type": "code",
   "execution_count": null,
   "metadata": {
    "collapsed": false
   },
   "outputs": [],
   "source": [
    "hist = np.array(nx.degree_histogram(G_nodir))\n",
    "plt.plot(np.log(np.arange(len(hist))), np.log(hist), \"k.\") #log-log"
   ]
  },
  {
   "cell_type": "code",
   "execution_count": null,
   "metadata": {
    "collapsed": false
   },
   "outputs": [],
   "source": [
    "aristas_total = np.loadtxt(\"roadNet-TX.txt\", comments=\"#\", dtype=np.int32)\n",
    "print(\"aristas:\", len(aristas_total))"
   ]
  },
  {
   "cell_type": "code",
   "execution_count": null,
   "metadata": {
    "collapsed": false
   },
   "outputs": [],
   "source": [
    "aristas = aristas_total[:300]  # tomemos las primeras 300\n",
    "G = nx.DiGraph()\n",
    "G.add_edges_from(aristas)\n",
    "G_nodir = G.to_undirected()\n",
    "pos = nx.spring_layout(G_nodir, iterations=10)\n",
    "nx.draw(G_nodir, pos, node_size=10, alpha=.5)\n",
    "plt.show()"
   ]
  },
  {
   "cell_type": "code",
   "execution_count": null,
   "metadata": {
    "collapsed": false
   },
   "outputs": [],
   "source": [
    "from random import random\n",
    "nc = nx.connected.number_connected_components(G_nodir)\n",
    "\n",
    "for g in nx.connected.connected_component_subgraphs.undecorated(G_nodir):\n",
    "    pos = nx.spring_layout(g, iterations=5)\n",
    "    colores = np.arange(g.number_of_edges())\n",
    "    nx.draw_networkx_nodes(g, pos, node_color=\"blue\", node_size=10, alpha=.3)\n",
    "    nx.draw_networkx_edges(g, pos, edge_color=colores, \n",
    "                           edge_cmap=plt.cm.Accent, alpha=.5)\n",
    "plt.show()"
   ]
  }
 ],
 "metadata": {
  "kernelspec": {
   "display_name": "Python 3",
   "language": "python",
   "name": "python3"
  },
  "language_info": {
   "codemirror_mode": {
    "name": "ipython",
    "version": 3
   },
   "file_extension": ".py",
   "mimetype": "text/x-python",
   "name": "python",
   "nbconvert_exporter": "python",
   "pygments_lexer": "ipython3",
   "version": "3.4.2"
  }
 },
 "nbformat": 4,
 "nbformat_minor": 0
}
